{
 "cells": [
  {
   "cell_type": "code",
   "execution_count": 17,
   "id": "e900625f",
   "metadata": {},
   "outputs": [
    {
     "name": "stdout",
     "output_type": "stream",
     "text": [
      "Enter a number2\n",
      "0\n",
      "1\n"
     ]
    }
   ],
   "source": [
    "#1)\n",
    "num = int(input(\"Enter a number\"))\n",
    "\n",
    "num1 = 0\n",
    "num2 = 1\n",
    "\n",
    "count =0\n",
    "\n",
    "if num <0:\n",
    "    print(\"Enter a positive number\")\n",
    "    \n",
    "elif num == num1:\n",
    "    print(\"Series is :\",num1)\n",
    "    \n",
    "while count < num:\n",
    "    print(num1)\n",
    "    nth_num = num1+num2\n",
    "    num1=num2\n",
    "    num2=nth_num\n",
    "    \n",
    "    count +=1\n",
    "    \n",
    "    "
   ]
  },
  {
   "cell_type": "code",
   "execution_count": 43,
   "id": "67380db5",
   "metadata": {},
   "outputs": [
    {
     "name": "stdout",
     "output_type": "stream",
     "text": [
      "Please enter a wordsid\n",
      "['s', 'i', 'd']\n",
      "resverse of word is : dis\n"
     ]
    }
   ],
   "source": [
    "word = input(\"Please enter a word\")\n",
    "\n",
    "a = list(word)\n",
    "b = a[::-1]\n",
    "c = ''.join(b)\n",
    "print(\"resverse of word is :\",c)"
   ]
  },
  {
   "cell_type": "code",
   "execution_count": 73,
   "id": "165c45ad",
   "metadata": {},
   "outputs": [
    {
     "name": "stdout",
     "output_type": "stream",
     "text": [
      "Number of even digits : 6\n",
      "Number of odd digits : 5\n"
     ]
    }
   ],
   "source": [
    "a = [1,2,3,4,5,6,7,8,8,10,11]\n",
    "b = []\n",
    "c = []\n",
    "for i in a:\n",
    "    if i%2 ==0:\n",
    "        b.append(i)\n",
    "    else:\n",
    "        c.append(i)\n",
    "    \n",
    "        \n",
    "print(\"Number of even digits :\",len(b))\n",
    "print(\"Number of odd digits :\",len(c))"
   ]
  },
  {
   "cell_type": "code",
   "execution_count": 72,
   "id": "27e64c21",
   "metadata": {},
   "outputs": [
    {
     "name": "stdout",
     "output_type": "stream",
     "text": [
      "Number of ven digits : 6\n",
      "Number of odd digits : 5\n"
     ]
    }
   ],
   "source": [
    "\n",
    "\n",
    "        \n",
    "        \n",
    "        "
   ]
  },
  {
   "cell_type": "code",
   "execution_count": 59,
   "id": "977ce7d8",
   "metadata": {},
   "outputs": [
    {
     "data": {
      "text/plain": [
       "11"
      ]
     },
     "execution_count": 59,
     "metadata": {},
     "output_type": "execute_result"
    }
   ],
   "source": []
  },
  {
   "cell_type": "code",
   "execution_count": null,
   "id": "08b298b2",
   "metadata": {},
   "outputs": [],
   "source": []
  },
  {
   "cell_type": "code",
   "execution_count": null,
   "id": "1e3dfafb",
   "metadata": {},
   "outputs": [],
   "source": [
    "\n",
    "\n",
    "\n",
    "\n",
    "\n",
    "\n",
    "\n",
    "\n",
    "\n",
    "\n",
    "\n",
    "\n",
    "\n",
    "\n",
    "\n",
    "\n",
    "\n",
    "\n",
    "\n",
    "\n",
    "\n",
    "\n",
    "\n",
    "\n",
    "\n",
    "\n",
    "\n",
    "\n",
    "\n",
    "\n",
    "\n"
   ]
  }
 ],
 "metadata": {
  "kernelspec": {
   "display_name": "Python 3 (ipykernel)",
   "language": "python",
   "name": "python3"
  },
  "language_info": {
   "codemirror_mode": {
    "name": "ipython",
    "version": 3
   },
   "file_extension": ".py",
   "mimetype": "text/x-python",
   "name": "python",
   "nbconvert_exporter": "python",
   "pygments_lexer": "ipython3",
   "version": "3.9.12"
  }
 },
 "nbformat": 4,
 "nbformat_minor": 5
}
